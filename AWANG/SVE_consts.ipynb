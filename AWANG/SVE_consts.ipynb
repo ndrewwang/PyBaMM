{
 "cells": [
  {
   "cell_type": "markdown",
   "metadata": {},
   "source": [
    "## PyBaMM Model Implementation"
   ]
  },
  {
   "cell_type": "code",
   "execution_count": 111,
   "metadata": {},
   "outputs": [],
   "source": [
    "import pybamm\n",
    "import numpy as np\n",
    "from scipy import constants\n",
    "import matplotlib.pyplot as plt\n",
    "import os\n",
    "# os.chdir(pybamm.__path__[0]+'/..')\n",
    "# os.chdir('/Users/andrew/Dropbox/Research/DPhil/9 Pybamm_Modelling/PyBaMM')\n",
    "# os.getcwd()"
   ]
  },
  {
   "cell_type": "markdown",
   "metadata": {},
   "source": [
    "#### 1. Initialise model"
   ]
  },
  {
   "cell_type": "code",
   "execution_count": 112,
   "metadata": {},
   "outputs": [],
   "source": [
    "model = pybamm.BaseModel()"
   ]
  },
  {
   "cell_type": "markdown",
   "metadata": {},
   "source": [
    "#### 2. Define parameters and variables\n"
   ]
  },
  {
   "cell_type": "code",
   "execution_count": 113,
   "metadata": {},
   "outputs": [],
   "source": [
    "# Defining Parameters\n",
    "\n",
    "# PARAMETERS\n",
    "#--------------------------------------------\n",
    "\n",
    "# Galvanostatic Polarization (1. Pulse, 2. Relax)\n",
    "# t_pulse = pybamm.Parameter(\"Current pulse time [s]\")\n",
    "# t_relax = pybamm.Parameter(\"Current off relaxation time [s]\")\n",
    "# def I_applied(t_pulse,t_relax):\n",
    "#     \"Current profile\"\n",
    "#     inputs =  {\"Current pulse time [s]\": t_pulse,\n",
    "#                \"Current off relaxation time [s]\": t_relax,\n",
    "#               }\n",
    "#     return pybamm.FunctionParameter(\"Current profile [A]\", inputs)\n",
    "\n",
    "I_applied = pybamm.Scalar(0.002) #(\"Applied current [A]\")\n",
    "\n",
    "                                    \n",
    "# Geometery\n",
    "L = pybamm.Scalar(0.002) #(\"Electrolyte length [m]\")\n",
    "A = pybamm.Scalar(0.00005) #(\"Electrode area [m2]\")\n",
    "\n",
    "# Physical constants\n",
    "R = pybamm.Scalar(constants.R) #(\"Gas constant [J.mol-1.K-1]\")\n",
    "F = pybamm.Scalar(constants.physical_constants[\"Faraday constant\"][0]) #(\"Faradays constant [C.mol-1]\")\n",
    "T = pybamm.Scalar(298.15) #(\"Temperature [K]\")\n",
    "\n",
    "# Stoich and charge constants\n",
    "nu_p = pybamm.Scalar(1) #(\"Cation formula unit\")\n",
    "nu_m = pybamm.Scalar(1) #(\"Anion formula unit\")\n",
    "z_p = pybamm.Scalar(1) #(\"Cation equivalent charge\")\n",
    "z_m = pybamm.Scalar(-1) #(\"Anion equivalent charge\")\n",
    "s_p = pybamm.Scalar(-1) #(\"Cation stoichiometric coefficient\")\n",
    "s_n = pybamm.Scalar(0) #(\"Anion stoichiometric coefficient\")\n",
    "s_0 = pybamm.Scalar(0) #(\"Solvent stoichiometric coefficient\")\n",
    "\n",
    "# Electrolyte bulk property\n",
    "c_init = pybamm.Scalar(1000) #(\"Bulk electrolyte concentration [mol.m-3]\")\n",
    "M_e = pybamm.Scalar(0.151905) #(\"Salt molar mass [kg.mol-1]\")\n",
    "M_0 = pybamm.Scalar(0.1041) #(\"Solvent molar mass [kg.mol-1]\")\n",
    "\n",
    "# Separator property\n",
    "Br = pybamm.Scalar(1.5) #(\"Bruggeman coefficient\")\n",
    "eta  = pybamm.Scalar(0.85) #(\"Porosity\")\n",
    "\n",
    "\n",
    "# CONSTANT FUNCTION PARAMETERS (for now)\n",
    "tp0 = pybamm.Scalar(0.4) \n",
    "V_0 = pybamm.Scalar(0.0001) #m3/mol\n",
    "V_e = pybamm.Scalar(0.00005) #m3/mol\n",
    "Chi = pybamm.Scalar(1) \n",
    "K_eff = pybamm.Scalar(0.5) #S/m\n",
    "D_eff = pybamm.Scalar(3E-10) #m2/s"
   ]
  },
  {
   "cell_type": "code",
   "execution_count": 114,
   "metadata": {},
   "outputs": [],
   "source": [
    "# Defining variables\n",
    "x = pybamm.SpatialVariable(\"x\", domain=\"Electrolyte\", coord_sys=\"cartesian\")\n",
    "c = pybamm.Variable(\"Salt concentration\", domain=\"Electrolyte\")\n",
    "phi = pybamm.Variable(\"Potential\", domain=\"Electrolyte\")\n",
    "p = pybamm.Variable(\"Dummy pressure\", domain=\"Electrolyte\")"
   ]
  },
  {
   "cell_type": "markdown",
   "metadata": {},
   "source": [
    "#### 3. State governing equations"
   ]
  },
  {
   "cell_type": "code",
   "execution_count": 118,
   "metadata": {},
   "outputs": [],
   "source": [
    "#Evaluate composition dependent parameters\n",
    "tp0_eval = tp0\n",
    "V_0_eval = V_0\n",
    "V_e_eval = V_e\n",
    "Chi_eval = Chi\n",
    "K_eff_eval = K_eff\n",
    "D_eff_eval = D_eff\n",
    "\n",
    "nu = nu_p + nu_m\n",
    "vbox = -pybamm.grad(p) #pybamm doesnt define vector variables, write in terms of scalar p\n",
    "\n",
    "# MacInnes Equation (Hou 26) rewritten in terms of i_curr\n",
    "i_curr =  (K_eff_eval* \n",
    "           (-pybamm.grad(phi) + \n",
    "            ((nu*R*T*Chi_eval*(1-tp0_eval))/(c*F*z_p*nu_p*(1+(nu*V_0_eval-V_e_eval)*c)))*pybamm.grad(c)))\n",
    "\n",
    "# Define flux in terms of c (Hou 27) \n",
    "N_p = (-nu_p*D_eff_eval*pybamm.grad(c) \n",
    "               + (tp0_eval/(F*z_p))*i_curr \n",
    "                            + nu_p*c*vbox)\n",
    "\n",
    "# Material balance (Hou 31) rearranged with time derivative on LHS\n",
    "dcdt = (-1/eta)*pybamm.div(N_p/nu_p)\n",
    "\n",
    "# Volume continuity (Hou 30) rearranged to = 0\n",
    "vol_cont = (pybamm.div(vbox) \n",
    "            + pybamm.inner((V_e_eval/(F*z_p*nu_p))*i_curr, pybamm.grad(tp0_eval)) \n",
    "                + pybamm.inner((D_eff_eval/(1-(V_e_eval*c)))*pybamm.grad(c), pybamm.grad(V_e_eval)))\n",
    "\n",
    "\n",
    "\n",
    "model.algebraic = {phi: pybamm.div(i_curr), p: vol_cont}\n",
    "model.rhs = {c: dcdt}\n",
    "\n",
    "\n",
    "\n",
    "model.initial_conditions = {\n",
    "    c: c_init,\n",
    "    phi: pybamm.Scalar(0), #arbitrary\n",
    "    p: pybamm.Scalar(0), #arbitrary\n",
    "}\n",
    "\n",
    "\n",
    "# # Boundary conditions \n",
    "\n",
    "# Plug (Hou 33) into (Hou 27) and rearrange for dcdx term, terms collected here:\n",
    "dcdx_left = pybamm.boundary_value((-1/(nu_p*D_eff_eval))*((I_applied/(F*z_p*A))*(1-tp0_eval)*(1-c*V_e_eval)),\"left\")\n",
    "dcdx_right = pybamm.boundary_value((-1/(nu_p*D_eff_eval))*((I_applied/(F*z_p*A))*(1-tp0_eval)*(1-c*V_e_eval)),\"right\")\n",
    "\n",
    "# Equation (Hou 26) evaluated at x=0\n",
    "dphidx_left = pybamm.boundary_value((I_applied/A)/K_eff_eval\n",
    "                -((nu*R*T*Chi_eval*(1-tp0_eval))/(c*F*z_p*nu_p*(1+(nu*V_0_eval-V_e_eval)*c)))*pybamm.grad(c),\"left\")\n",
    "\n",
    "# Equation (Hou 33)\n",
    "dpdx_left = pybamm.boundary_value(V_e_eval*(1-tp0_eval)*I_applied/(F*z_p*nu_p*A),\"left\") #dpdx is vbox at x=0\n",
    "\n",
    "# dcdx_left = 1# c*V_e_eval\n",
    "# dcdx_right = 1# c*V_e_eval\n",
    "# dphidx_left = 1# (I_applied/A)/K_eff_eval\n",
    "# dpdx_left = 1# V_e_eval*(1-tp0_eval)*I_applied/(F*z_p*nu_p*A)\n",
    "\n",
    "#p and phi are algebraic variables so need dirichlet bcs either right or left, otherwise undefined up to a constant\n",
    "model.boundary_conditions = {\n",
    "    c: {\"left\": (dcdx_left, \"Neumann\"), \"right\": (dcdx_right, \"Neumann\")},\n",
    "    phi: {\"left\": (dphidx_left, \"Neumann\"), \"right\": (0, \"Dirichlet\")},\n",
    "    p: {\"left\": (dpdx_left, \"Neumann\"), \"right\": (0, \"Dirichlet\")},\n",
    "    }"
   ]
  },
  {
   "cell_type": "code",
   "execution_count": 119,
   "metadata": {},
   "outputs": [
    {
     "ename": "ShapeError",
     "evalue": "Cannot find shape (original error: operands could not be broadcast together with shapes (1001,1) (999,1) )",
     "output_type": "error",
     "traceback": [
      "\u001b[0;31m---------------------------------------------------------------------------\u001b[0m",
      "\u001b[0;31mKeyError\u001b[0m                                  Traceback (most recent call last)",
      "\u001b[0;32m/anaconda3/lib/python3.6/site-packages/pybamm/discretisations/discretisation.py\u001b[0m in \u001b[0;36mprocess_symbol\u001b[0;34m(self, symbol)\u001b[0m\n\u001b[1;32m    751\u001b[0m         \u001b[0;32mtry\u001b[0m\u001b[0;34m:\u001b[0m\u001b[0;34m\u001b[0m\u001b[0m\n\u001b[0;32m--> 752\u001b[0;31m             \u001b[0;32mreturn\u001b[0m \u001b[0mself\u001b[0m\u001b[0;34m.\u001b[0m\u001b[0m_discretised_symbols\u001b[0m\u001b[0;34m[\u001b[0m\u001b[0msymbol\u001b[0m\u001b[0;34m.\u001b[0m\u001b[0mid\u001b[0m\u001b[0;34m]\u001b[0m\u001b[0;34m\u001b[0m\u001b[0m\n\u001b[0m\u001b[1;32m    753\u001b[0m         \u001b[0;32mexcept\u001b[0m \u001b[0mKeyError\u001b[0m\u001b[0;34m:\u001b[0m\u001b[0;34m\u001b[0m\u001b[0m\n",
      "\u001b[0;31mKeyError\u001b[0m: -2152936556619023530",
      "\nDuring handling of the above exception, another exception occurred:\n",
      "\u001b[0;31mKeyError\u001b[0m                                  Traceback (most recent call last)",
      "\u001b[0;32m/anaconda3/lib/python3.6/site-packages/pybamm/discretisations/discretisation.py\u001b[0m in \u001b[0;36mprocess_symbol\u001b[0;34m(self, symbol)\u001b[0m\n\u001b[1;32m    751\u001b[0m         \u001b[0;32mtry\u001b[0m\u001b[0;34m:\u001b[0m\u001b[0;34m\u001b[0m\u001b[0m\n\u001b[0;32m--> 752\u001b[0;31m             \u001b[0;32mreturn\u001b[0m \u001b[0mself\u001b[0m\u001b[0;34m.\u001b[0m\u001b[0m_discretised_symbols\u001b[0m\u001b[0;34m[\u001b[0m\u001b[0msymbol\u001b[0m\u001b[0;34m.\u001b[0m\u001b[0mid\u001b[0m\u001b[0;34m]\u001b[0m\u001b[0;34m\u001b[0m\u001b[0m\n\u001b[0m\u001b[1;32m    753\u001b[0m         \u001b[0;32mexcept\u001b[0m \u001b[0mKeyError\u001b[0m\u001b[0;34m:\u001b[0m\u001b[0;34m\u001b[0m\u001b[0m\n",
      "\u001b[0;31mKeyError\u001b[0m: -5241736167013465856",
      "\nDuring handling of the above exception, another exception occurred:\n",
      "\u001b[0;31mKeyError\u001b[0m                                  Traceback (most recent call last)",
      "\u001b[0;32m/anaconda3/lib/python3.6/site-packages/pybamm/discretisations/discretisation.py\u001b[0m in \u001b[0;36mprocess_symbol\u001b[0;34m(self, symbol)\u001b[0m\n\u001b[1;32m    751\u001b[0m         \u001b[0;32mtry\u001b[0m\u001b[0;34m:\u001b[0m\u001b[0;34m\u001b[0m\u001b[0m\n\u001b[0;32m--> 752\u001b[0;31m             \u001b[0;32mreturn\u001b[0m \u001b[0mself\u001b[0m\u001b[0;34m.\u001b[0m\u001b[0m_discretised_symbols\u001b[0m\u001b[0;34m[\u001b[0m\u001b[0msymbol\u001b[0m\u001b[0;34m.\u001b[0m\u001b[0mid\u001b[0m\u001b[0;34m]\u001b[0m\u001b[0;34m\u001b[0m\u001b[0m\n\u001b[0m\u001b[1;32m    753\u001b[0m         \u001b[0;32mexcept\u001b[0m \u001b[0mKeyError\u001b[0m\u001b[0;34m:\u001b[0m\u001b[0;34m\u001b[0m\u001b[0m\n",
      "\u001b[0;31mKeyError\u001b[0m: -2934384245555106826",
      "\nDuring handling of the above exception, another exception occurred:\n",
      "\u001b[0;31mAttributeError\u001b[0m                            Traceback (most recent call last)",
      "\u001b[0;32m/anaconda3/lib/python3.6/site-packages/pybamm/expression_tree/symbol.py\u001b[0m in \u001b[0;36mevaluate_for_shape\u001b[0;34m(self)\u001b[0m\n\u001b[1;32m    583\u001b[0m         \u001b[0;32mtry\u001b[0m\u001b[0;34m:\u001b[0m\u001b[0;34m\u001b[0m\u001b[0m\n\u001b[0;32m--> 584\u001b[0;31m             \u001b[0;32mreturn\u001b[0m \u001b[0mself\u001b[0m\u001b[0;34m.\u001b[0m\u001b[0m_saved_evaluate_for_shape\u001b[0m\u001b[0;34m\u001b[0m\u001b[0m\n\u001b[0m\u001b[1;32m    585\u001b[0m         \u001b[0;32mexcept\u001b[0m \u001b[0mAttributeError\u001b[0m\u001b[0;34m:\u001b[0m\u001b[0;34m\u001b[0m\u001b[0m\n",
      "\u001b[0;31mAttributeError\u001b[0m: 'Multiplication' object has no attribute '_saved_evaluate_for_shape'",
      "\nDuring handling of the above exception, another exception occurred:\n",
      "\u001b[0;31mValueError\u001b[0m                                Traceback (most recent call last)",
      "\u001b[0;32m/anaconda3/lib/python3.6/site-packages/pybamm/expression_tree/symbol.py\u001b[0m in \u001b[0;36mtest_shape\u001b[0;34m(self)\u001b[0m\n\u001b[1;32m    777\u001b[0m         \u001b[0;32mtry\u001b[0m\u001b[0;34m:\u001b[0m\u001b[0;34m\u001b[0m\u001b[0m\n\u001b[0;32m--> 778\u001b[0;31m             \u001b[0mself\u001b[0m\u001b[0;34m.\u001b[0m\u001b[0mshape_for_testing\u001b[0m\u001b[0;34m\u001b[0m\u001b[0m\n\u001b[0m\u001b[1;32m    779\u001b[0m         \u001b[0;32mexcept\u001b[0m \u001b[0mValueError\u001b[0m \u001b[0;32mas\u001b[0m \u001b[0me\u001b[0m\u001b[0;34m:\u001b[0m\u001b[0;34m\u001b[0m\u001b[0m\n",
      "\u001b[0;32m/anaconda3/lib/python3.6/site-packages/pybamm/expression_tree/symbol.py\u001b[0m in \u001b[0;36mshape_for_testing\u001b[0;34m(self)\u001b[0m\n\u001b[1;32m    761\u001b[0m         \"\"\"\n\u001b[0;32m--> 762\u001b[0;31m         \u001b[0mevaluated_self\u001b[0m \u001b[0;34m=\u001b[0m \u001b[0mself\u001b[0m\u001b[0;34m.\u001b[0m\u001b[0mevaluate_for_shape\u001b[0m\u001b[0;34m(\u001b[0m\u001b[0;34m)\u001b[0m\u001b[0;34m\u001b[0m\u001b[0m\n\u001b[0m\u001b[1;32m    763\u001b[0m         \u001b[0;32mif\u001b[0m \u001b[0misinstance\u001b[0m\u001b[0;34m(\u001b[0m\u001b[0mevaluated_self\u001b[0m\u001b[0;34m,\u001b[0m \u001b[0mnumbers\u001b[0m\u001b[0;34m.\u001b[0m\u001b[0mNumber\u001b[0m\u001b[0;34m)\u001b[0m\u001b[0;34m:\u001b[0m\u001b[0;34m\u001b[0m\u001b[0m\n",
      "\u001b[0;32m/anaconda3/lib/python3.6/site-packages/pybamm/expression_tree/symbol.py\u001b[0m in \u001b[0;36mevaluate_for_shape\u001b[0;34m(self)\u001b[0m\n\u001b[1;32m    585\u001b[0m         \u001b[0;32mexcept\u001b[0m \u001b[0mAttributeError\u001b[0m\u001b[0;34m:\u001b[0m\u001b[0;34m\u001b[0m\u001b[0m\n\u001b[0;32m--> 586\u001b[0;31m             \u001b[0mself\u001b[0m\u001b[0;34m.\u001b[0m\u001b[0m_saved_evaluate_for_shape\u001b[0m \u001b[0;34m=\u001b[0m \u001b[0mself\u001b[0m\u001b[0;34m.\u001b[0m\u001b[0m_evaluate_for_shape\u001b[0m\u001b[0;34m(\u001b[0m\u001b[0;34m)\u001b[0m\u001b[0;34m\u001b[0m\u001b[0m\n\u001b[0m\u001b[1;32m    587\u001b[0m             \u001b[0;32mreturn\u001b[0m \u001b[0mself\u001b[0m\u001b[0;34m.\u001b[0m\u001b[0m_saved_evaluate_for_shape\u001b[0m\u001b[0;34m\u001b[0m\u001b[0m\n",
      "\u001b[0;32m/anaconda3/lib/python3.6/site-packages/pybamm/expression_tree/binary_operators.py\u001b[0m in \u001b[0;36m_evaluate_for_shape\u001b[0;34m(self)\u001b[0m\n\u001b[1;32m    187\u001b[0m         \u001b[0mright\u001b[0m \u001b[0;34m=\u001b[0m \u001b[0mself\u001b[0m\u001b[0;34m.\u001b[0m\u001b[0mchildren\u001b[0m\u001b[0;34m[\u001b[0m\u001b[0;36m1\u001b[0m\u001b[0;34m]\u001b[0m\u001b[0;34m.\u001b[0m\u001b[0mevaluate_for_shape\u001b[0m\u001b[0;34m(\u001b[0m\u001b[0;34m)\u001b[0m\u001b[0;34m\u001b[0m\u001b[0m\n\u001b[0;32m--> 188\u001b[0;31m         \u001b[0;32mreturn\u001b[0m \u001b[0mself\u001b[0m\u001b[0;34m.\u001b[0m\u001b[0m_binary_evaluate\u001b[0m\u001b[0;34m(\u001b[0m\u001b[0mleft\u001b[0m\u001b[0;34m,\u001b[0m \u001b[0mright\u001b[0m\u001b[0;34m)\u001b[0m\u001b[0;34m\u001b[0m\u001b[0m\n\u001b[0m\u001b[1;32m    189\u001b[0m \u001b[0;34m\u001b[0m\u001b[0m\n",
      "\u001b[0;32m/anaconda3/lib/python3.6/site-packages/pybamm/expression_tree/binary_operators.py\u001b[0m in \u001b[0;36m_binary_evaluate\u001b[0;34m(self, left, right)\u001b[0m\n\u001b[1;32m    416\u001b[0m         \u001b[0;32melse\u001b[0m\u001b[0;34m:\u001b[0m\u001b[0;34m\u001b[0m\u001b[0m\n\u001b[0;32m--> 417\u001b[0;31m             \u001b[0;32mreturn\u001b[0m \u001b[0mleft\u001b[0m \u001b[0;34m*\u001b[0m \u001b[0mright\u001b[0m\u001b[0;34m\u001b[0m\u001b[0m\n\u001b[0m\u001b[1;32m    418\u001b[0m \u001b[0;34m\u001b[0m\u001b[0m\n",
      "\u001b[0;31mValueError\u001b[0m: operands could not be broadcast together with shapes (1001,1) (999,1) ",
      "\nDuring handling of the above exception, another exception occurred:\n",
      "\u001b[0;31mShapeError\u001b[0m                                Traceback (most recent call last)",
      "\u001b[0;32m<timed exec>\u001b[0m in \u001b[0;36m<module>\u001b[0;34m()\u001b[0m\n",
      "\u001b[0;32m/anaconda3/lib/python3.6/site-packages/pybamm/discretisations/discretisation.py\u001b[0m in \u001b[0;36mprocess_model\u001b[0;34m(self, model, inplace, check_model)\u001b[0m\n\u001b[1;32m    148\u001b[0m         \u001b[0;31m# set boundary conditions (only need key ids for boundary_conditions)\u001b[0m\u001b[0;34m\u001b[0m\u001b[0;34m\u001b[0m\u001b[0m\n\u001b[1;32m    149\u001b[0m         \u001b[0mpybamm\u001b[0m\u001b[0;34m.\u001b[0m\u001b[0mlogger\u001b[0m\u001b[0;34m.\u001b[0m\u001b[0minfo\u001b[0m\u001b[0;34m(\u001b[0m\u001b[0;34m\"Discretise boundary conditions for {}\"\u001b[0m\u001b[0;34m.\u001b[0m\u001b[0mformat\u001b[0m\u001b[0;34m(\u001b[0m\u001b[0mmodel\u001b[0m\u001b[0;34m.\u001b[0m\u001b[0mname\u001b[0m\u001b[0;34m)\u001b[0m\u001b[0;34m)\u001b[0m\u001b[0;34m\u001b[0m\u001b[0m\n\u001b[0;32m--> 150\u001b[0;31m         \u001b[0mself\u001b[0m\u001b[0;34m.\u001b[0m\u001b[0mbcs\u001b[0m \u001b[0;34m=\u001b[0m \u001b[0mself\u001b[0m\u001b[0;34m.\u001b[0m\u001b[0mprocess_boundary_conditions\u001b[0m\u001b[0;34m(\u001b[0m\u001b[0mmodel\u001b[0m\u001b[0;34m)\u001b[0m\u001b[0;34m\u001b[0m\u001b[0m\n\u001b[0m\u001b[1;32m    151\u001b[0m         \u001b[0mpybamm\u001b[0m\u001b[0;34m.\u001b[0m\u001b[0mlogger\u001b[0m\u001b[0;34m.\u001b[0m\u001b[0minfo\u001b[0m\u001b[0;34m(\u001b[0m\u001b[0;34m\"Set internal boundary conditions for {}\"\u001b[0m\u001b[0;34m.\u001b[0m\u001b[0mformat\u001b[0m\u001b[0;34m(\u001b[0m\u001b[0mmodel\u001b[0m\u001b[0;34m.\u001b[0m\u001b[0mname\u001b[0m\u001b[0;34m)\u001b[0m\u001b[0;34m)\u001b[0m\u001b[0;34m\u001b[0m\u001b[0m\n\u001b[1;32m    152\u001b[0m         \u001b[0mself\u001b[0m\u001b[0;34m.\u001b[0m\u001b[0mset_internal_boundary_conditions\u001b[0m\u001b[0;34m(\u001b[0m\u001b[0mmodel\u001b[0m\u001b[0;34m)\u001b[0m\u001b[0;34m\u001b[0m\u001b[0m\n",
      "\u001b[0;32m/anaconda3/lib/python3.6/site-packages/pybamm/discretisations/discretisation.py\u001b[0m in \u001b[0;36mprocess_boundary_conditions\u001b[0;34m(self, model)\u001b[0m\n\u001b[1;32m    449\u001b[0m                 \u001b[0meqn\u001b[0m\u001b[0;34m,\u001b[0m \u001b[0mtyp\u001b[0m \u001b[0;34m=\u001b[0m \u001b[0mbc\u001b[0m\u001b[0;34m\u001b[0m\u001b[0m\n\u001b[1;32m    450\u001b[0m                 \u001b[0mpybamm\u001b[0m\u001b[0;34m.\u001b[0m\u001b[0mlogger\u001b[0m\u001b[0;34m.\u001b[0m\u001b[0mdebug\u001b[0m\u001b[0;34m(\u001b[0m\u001b[0;34m\"Discretise {} ({} bc)\"\u001b[0m\u001b[0;34m.\u001b[0m\u001b[0mformat\u001b[0m\u001b[0;34m(\u001b[0m\u001b[0mkey\u001b[0m\u001b[0;34m,\u001b[0m \u001b[0mside\u001b[0m\u001b[0;34m)\u001b[0m\u001b[0;34m)\u001b[0m\u001b[0;34m\u001b[0m\u001b[0m\n\u001b[0;32m--> 451\u001b[0;31m                 \u001b[0mprocessed_eqn\u001b[0m \u001b[0;34m=\u001b[0m \u001b[0mself\u001b[0m\u001b[0;34m.\u001b[0m\u001b[0mprocess_symbol\u001b[0m\u001b[0;34m(\u001b[0m\u001b[0meqn\u001b[0m\u001b[0;34m)\u001b[0m\u001b[0;34m\u001b[0m\u001b[0m\n\u001b[0m\u001b[1;32m    452\u001b[0m                 \u001b[0mprocessed_bcs\u001b[0m\u001b[0;34m[\u001b[0m\u001b[0mkey\u001b[0m\u001b[0;34m.\u001b[0m\u001b[0mid\u001b[0m\u001b[0;34m]\u001b[0m\u001b[0;34m[\u001b[0m\u001b[0mside\u001b[0m\u001b[0;34m]\u001b[0m \u001b[0;34m=\u001b[0m \u001b[0;34m(\u001b[0m\u001b[0mprocessed_eqn\u001b[0m\u001b[0;34m,\u001b[0m \u001b[0mtyp\u001b[0m\u001b[0;34m)\u001b[0m\u001b[0;34m\u001b[0m\u001b[0m\n\u001b[1;32m    453\u001b[0m \u001b[0;34m\u001b[0m\u001b[0m\n",
      "\u001b[0;32m/anaconda3/lib/python3.6/site-packages/pybamm/discretisations/discretisation.py\u001b[0m in \u001b[0;36mprocess_symbol\u001b[0;34m(self, symbol)\u001b[0m\n\u001b[1;32m    752\u001b[0m             \u001b[0;32mreturn\u001b[0m \u001b[0mself\u001b[0m\u001b[0;34m.\u001b[0m\u001b[0m_discretised_symbols\u001b[0m\u001b[0;34m[\u001b[0m\u001b[0msymbol\u001b[0m\u001b[0;34m.\u001b[0m\u001b[0mid\u001b[0m\u001b[0;34m]\u001b[0m\u001b[0;34m\u001b[0m\u001b[0m\n\u001b[1;32m    753\u001b[0m         \u001b[0;32mexcept\u001b[0m \u001b[0mKeyError\u001b[0m\u001b[0;34m:\u001b[0m\u001b[0;34m\u001b[0m\u001b[0m\n\u001b[0;32m--> 754\u001b[0;31m             \u001b[0mdiscretised_symbol\u001b[0m \u001b[0;34m=\u001b[0m \u001b[0mself\u001b[0m\u001b[0;34m.\u001b[0m\u001b[0m_process_symbol\u001b[0m\u001b[0;34m(\u001b[0m\u001b[0msymbol\u001b[0m\u001b[0;34m)\u001b[0m\u001b[0;34m\u001b[0m\u001b[0m\n\u001b[0m\u001b[1;32m    755\u001b[0m             \u001b[0mself\u001b[0m\u001b[0;34m.\u001b[0m\u001b[0m_discretised_symbols\u001b[0m\u001b[0;34m[\u001b[0m\u001b[0msymbol\u001b[0m\u001b[0;34m.\u001b[0m\u001b[0mid\u001b[0m\u001b[0;34m]\u001b[0m \u001b[0;34m=\u001b[0m \u001b[0mdiscretised_symbol\u001b[0m\u001b[0;34m\u001b[0m\u001b[0m\n\u001b[1;32m    756\u001b[0m             \u001b[0mdiscretised_symbol\u001b[0m\u001b[0;34m.\u001b[0m\u001b[0mtest_shape\u001b[0m\u001b[0;34m(\u001b[0m\u001b[0;34m)\u001b[0m\u001b[0;34m\u001b[0m\u001b[0m\n",
      "\u001b[0;32m/anaconda3/lib/python3.6/site-packages/pybamm/discretisations/discretisation.py\u001b[0m in \u001b[0;36m_process_symbol\u001b[0;34m(self, symbol)\u001b[0m\n\u001b[1;32m    796\u001b[0m         \u001b[0;32melif\u001b[0m \u001b[0misinstance\u001b[0m\u001b[0;34m(\u001b[0m\u001b[0msymbol\u001b[0m\u001b[0;34m,\u001b[0m \u001b[0mpybamm\u001b[0m\u001b[0;34m.\u001b[0m\u001b[0mUnaryOperator\u001b[0m\u001b[0;34m)\u001b[0m\u001b[0;34m:\u001b[0m\u001b[0;34m\u001b[0m\u001b[0m\n\u001b[1;32m    797\u001b[0m             \u001b[0mchild\u001b[0m \u001b[0;34m=\u001b[0m \u001b[0msymbol\u001b[0m\u001b[0;34m.\u001b[0m\u001b[0mchild\u001b[0m\u001b[0;34m\u001b[0m\u001b[0m\n\u001b[0;32m--> 798\u001b[0;31m             \u001b[0mdisc_child\u001b[0m \u001b[0;34m=\u001b[0m \u001b[0mself\u001b[0m\u001b[0;34m.\u001b[0m\u001b[0mprocess_symbol\u001b[0m\u001b[0;34m(\u001b[0m\u001b[0mchild\u001b[0m\u001b[0;34m)\u001b[0m\u001b[0;34m\u001b[0m\u001b[0m\n\u001b[0m\u001b[1;32m    799\u001b[0m             \u001b[0;32mif\u001b[0m \u001b[0mchild\u001b[0m\u001b[0;34m.\u001b[0m\u001b[0mdomain\u001b[0m \u001b[0;34m!=\u001b[0m \u001b[0;34m[\u001b[0m\u001b[0;34m]\u001b[0m\u001b[0;34m:\u001b[0m\u001b[0;34m\u001b[0m\u001b[0m\n\u001b[1;32m    800\u001b[0m                 \u001b[0mchild_spatial_method\u001b[0m \u001b[0;34m=\u001b[0m \u001b[0mself\u001b[0m\u001b[0;34m.\u001b[0m\u001b[0mspatial_methods\u001b[0m\u001b[0;34m[\u001b[0m\u001b[0mchild\u001b[0m\u001b[0;34m.\u001b[0m\u001b[0mdomain\u001b[0m\u001b[0;34m[\u001b[0m\u001b[0;36m0\u001b[0m\u001b[0;34m]\u001b[0m\u001b[0;34m]\u001b[0m\u001b[0;34m\u001b[0m\u001b[0m\n",
      "\u001b[0;32m/anaconda3/lib/python3.6/site-packages/pybamm/discretisations/discretisation.py\u001b[0m in \u001b[0;36mprocess_symbol\u001b[0;34m(self, symbol)\u001b[0m\n\u001b[1;32m    752\u001b[0m             \u001b[0;32mreturn\u001b[0m \u001b[0mself\u001b[0m\u001b[0;34m.\u001b[0m\u001b[0m_discretised_symbols\u001b[0m\u001b[0;34m[\u001b[0m\u001b[0msymbol\u001b[0m\u001b[0;34m.\u001b[0m\u001b[0mid\u001b[0m\u001b[0;34m]\u001b[0m\u001b[0;34m\u001b[0m\u001b[0m\n\u001b[1;32m    753\u001b[0m         \u001b[0;32mexcept\u001b[0m \u001b[0mKeyError\u001b[0m\u001b[0;34m:\u001b[0m\u001b[0;34m\u001b[0m\u001b[0m\n\u001b[0;32m--> 754\u001b[0;31m             \u001b[0mdiscretised_symbol\u001b[0m \u001b[0;34m=\u001b[0m \u001b[0mself\u001b[0m\u001b[0;34m.\u001b[0m\u001b[0m_process_symbol\u001b[0m\u001b[0;34m(\u001b[0m\u001b[0msymbol\u001b[0m\u001b[0;34m)\u001b[0m\u001b[0;34m\u001b[0m\u001b[0m\n\u001b[0m\u001b[1;32m    755\u001b[0m             \u001b[0mself\u001b[0m\u001b[0;34m.\u001b[0m\u001b[0m_discretised_symbols\u001b[0m\u001b[0;34m[\u001b[0m\u001b[0msymbol\u001b[0m\u001b[0;34m.\u001b[0m\u001b[0mid\u001b[0m\u001b[0;34m]\u001b[0m \u001b[0;34m=\u001b[0m \u001b[0mdiscretised_symbol\u001b[0m\u001b[0;34m\u001b[0m\u001b[0m\n\u001b[1;32m    756\u001b[0m             \u001b[0mdiscretised_symbol\u001b[0m\u001b[0;34m.\u001b[0m\u001b[0mtest_shape\u001b[0m\u001b[0;34m(\u001b[0m\u001b[0;34m)\u001b[0m\u001b[0;34m\u001b[0m\u001b[0m\n",
      "\u001b[0;32m/anaconda3/lib/python3.6/site-packages/pybamm/discretisations/discretisation.py\u001b[0m in \u001b[0;36m_process_symbol\u001b[0;34m(self, symbol)\u001b[0m\n\u001b[1;32m    786\u001b[0m             \u001b[0mleft\u001b[0m\u001b[0;34m,\u001b[0m \u001b[0mright\u001b[0m \u001b[0;34m=\u001b[0m \u001b[0msymbol\u001b[0m\u001b[0;34m.\u001b[0m\u001b[0mchildren\u001b[0m\u001b[0;34m\u001b[0m\u001b[0m\n\u001b[1;32m    787\u001b[0m             \u001b[0mdisc_left\u001b[0m \u001b[0;34m=\u001b[0m \u001b[0mself\u001b[0m\u001b[0;34m.\u001b[0m\u001b[0mprocess_symbol\u001b[0m\u001b[0;34m(\u001b[0m\u001b[0mleft\u001b[0m\u001b[0;34m)\u001b[0m\u001b[0;34m\u001b[0m\u001b[0m\n\u001b[0;32m--> 788\u001b[0;31m             \u001b[0mdisc_right\u001b[0m \u001b[0;34m=\u001b[0m \u001b[0mself\u001b[0m\u001b[0;34m.\u001b[0m\u001b[0mprocess_symbol\u001b[0m\u001b[0;34m(\u001b[0m\u001b[0mright\u001b[0m\u001b[0;34m)\u001b[0m\u001b[0;34m\u001b[0m\u001b[0m\n\u001b[0m\u001b[1;32m    789\u001b[0m             \u001b[0;32mif\u001b[0m \u001b[0msymbol\u001b[0m\u001b[0;34m.\u001b[0m\u001b[0mdomain\u001b[0m \u001b[0;34m==\u001b[0m \u001b[0;34m[\u001b[0m\u001b[0;34m]\u001b[0m\u001b[0;34m:\u001b[0m\u001b[0;34m\u001b[0m\u001b[0m\n\u001b[1;32m    790\u001b[0m                 \u001b[0;32mreturn\u001b[0m \u001b[0msymbol\u001b[0m\u001b[0;34m.\u001b[0m\u001b[0m_binary_new_copy\u001b[0m\u001b[0;34m(\u001b[0m\u001b[0mdisc_left\u001b[0m\u001b[0;34m,\u001b[0m \u001b[0mdisc_right\u001b[0m\u001b[0;34m)\u001b[0m\u001b[0;34m\u001b[0m\u001b[0m\n",
      "\u001b[0;32m/anaconda3/lib/python3.6/site-packages/pybamm/discretisations/discretisation.py\u001b[0m in \u001b[0;36mprocess_symbol\u001b[0;34m(self, symbol)\u001b[0m\n\u001b[1;32m    754\u001b[0m             \u001b[0mdiscretised_symbol\u001b[0m \u001b[0;34m=\u001b[0m \u001b[0mself\u001b[0m\u001b[0;34m.\u001b[0m\u001b[0m_process_symbol\u001b[0m\u001b[0;34m(\u001b[0m\u001b[0msymbol\u001b[0m\u001b[0;34m)\u001b[0m\u001b[0;34m\u001b[0m\u001b[0m\n\u001b[1;32m    755\u001b[0m             \u001b[0mself\u001b[0m\u001b[0;34m.\u001b[0m\u001b[0m_discretised_symbols\u001b[0m\u001b[0;34m[\u001b[0m\u001b[0msymbol\u001b[0m\u001b[0;34m.\u001b[0m\u001b[0mid\u001b[0m\u001b[0;34m]\u001b[0m \u001b[0;34m=\u001b[0m \u001b[0mdiscretised_symbol\u001b[0m\u001b[0;34m\u001b[0m\u001b[0m\n\u001b[0;32m--> 756\u001b[0;31m             \u001b[0mdiscretised_symbol\u001b[0m\u001b[0;34m.\u001b[0m\u001b[0mtest_shape\u001b[0m\u001b[0;34m(\u001b[0m\u001b[0;34m)\u001b[0m\u001b[0;34m\u001b[0m\u001b[0m\n\u001b[0m\u001b[1;32m    757\u001b[0m             \u001b[0;31m# Assign mesh as an attribute to the processed variable\u001b[0m\u001b[0;34m\u001b[0m\u001b[0;34m\u001b[0m\u001b[0m\n\u001b[1;32m    758\u001b[0m             \u001b[0;32mif\u001b[0m \u001b[0msymbol\u001b[0m\u001b[0;34m.\u001b[0m\u001b[0mdomain\u001b[0m \u001b[0;34m!=\u001b[0m \u001b[0;34m[\u001b[0m\u001b[0;34m]\u001b[0m\u001b[0;34m:\u001b[0m\u001b[0;34m\u001b[0m\u001b[0m\n",
      "\u001b[0;32m/anaconda3/lib/python3.6/site-packages/pybamm/expression_tree/symbol.py\u001b[0m in \u001b[0;36mtest_shape\u001b[0;34m(self)\u001b[0m\n\u001b[1;32m    778\u001b[0m             \u001b[0mself\u001b[0m\u001b[0;34m.\u001b[0m\u001b[0mshape_for_testing\u001b[0m\u001b[0;34m\u001b[0m\u001b[0m\n\u001b[1;32m    779\u001b[0m         \u001b[0;32mexcept\u001b[0m \u001b[0mValueError\u001b[0m \u001b[0;32mas\u001b[0m \u001b[0me\u001b[0m\u001b[0;34m:\u001b[0m\u001b[0;34m\u001b[0m\u001b[0m\n\u001b[0;32m--> 780\u001b[0;31m             \u001b[0;32mraise\u001b[0m \u001b[0mpybamm\u001b[0m\u001b[0;34m.\u001b[0m\u001b[0mShapeError\u001b[0m\u001b[0;34m(\u001b[0m\u001b[0;34m\"Cannot find shape (original error: {})\"\u001b[0m\u001b[0;34m.\u001b[0m\u001b[0mformat\u001b[0m\u001b[0;34m(\u001b[0m\u001b[0me\u001b[0m\u001b[0;34m)\u001b[0m\u001b[0;34m)\u001b[0m\u001b[0;34m\u001b[0m\u001b[0m\n\u001b[0m",
      "\u001b[0;31mShapeError\u001b[0m: Cannot find shape (original error: operands could not be broadcast together with shapes (1001,1) (999,1) )"
     ]
    }
   ],
   "source": [
    "%%time\n",
    "\n",
    "# Geometry\n",
    "geometry = {\"Electrolyte\": {\"primary\": {x: {\"min\": pybamm.Scalar(0), \"max\": L}}}}\n",
    "    \n",
    "# Mesh and discretise\n",
    "submesh_types = {\"Electrolyte\": pybamm.MeshGenerator(pybamm.Uniform1DSubMesh)}\n",
    "# submesh_types = {\"Electrolyte\": pybamm.MeshGenerator(pybamm.Exponential1DSubMesh)}\n",
    "var_pts = {x: 1000}\n",
    "mesh = pybamm.Mesh(geometry, submesh_types, var_pts)\n",
    "\n",
    "spatial_methods = {\"Electrolyte\": pybamm.FiniteVolume()}\n",
    "disc = pybamm.Discretisation(mesh, spatial_methods)\n",
    "disc.process_model(model);"
   ]
  },
  {
   "cell_type": "code",
   "execution_count": null,
   "metadata": {},
   "outputs": [],
   "source": []
  },
  {
   "cell_type": "code",
   "execution_count": null,
   "metadata": {},
   "outputs": [],
   "source": []
  }
 ],
 "metadata": {
  "kernelspec": {
   "display_name": "Python 3",
   "language": "python",
   "name": "python3"
  },
  "language_info": {
   "codemirror_mode": {
    "name": "ipython",
    "version": 3
   },
   "file_extension": ".py",
   "mimetype": "text/x-python",
   "name": "python",
   "nbconvert_exporter": "python",
   "pygments_lexer": "ipython3",
   "version": "3.6.5"
  }
 },
 "nbformat": 4,
 "nbformat_minor": 2
}
