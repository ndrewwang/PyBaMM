{
 "cells": [
  {
   "cell_type": "markdown",
   "metadata": {},
   "source": [
    "# Polarization Cell Model"
   ]
  },
  {
   "cell_type": "markdown",
   "metadata": {},
   "source": [
    "This is a notebook trying to implement a [ Li | Electrolyte | Li ] model with full solute-volume-effects following Liu & Monroe's paper and the COMSOL model by Hou & Monroe. It will try follow the SEI growth example from model conception to solution within this notebook. "
   ]
  },
  {
   "cell_type": "markdown",
   "metadata": {},
   "source": [
    "## Dimensional Model Describing Binary Electrolyte Polarization"
   ]
  },
  {
   "cell_type": "markdown",
   "metadata": {},
   "source": [
    "The model is a modified version of the concentrated-solution model originally implemented by Newman & Chapman. \n",
    "\n",
    "We want to make transient simulations of electrolyte behaviour by solving 5 coupled PDEs over a 1-D Cartesian geometry, with boundary conditions based on an applied current $I(t)$. This model assumes only lithium ions are involved in electrode reactions. \n",
    "\n",
    "We consider a 1-D Li-Li planar cell with electrolyte spanning from the lithium metal surface at $x=0$ through $x=L$ where $L$ is the thickness of the electrolyte.\n",
    "\n"
   ]
  },
  {
   "cell_type": "markdown",
   "metadata": {},
   "source": [
    "#### 1. Cation Balance\n",
    "The salt distribution follows this material balance:\n",
    "\n",
    "nup*d(c,t)+d(Np,x)= 0\n",
    "\n",
    "$$\n",
    "\\epsilon \\frac{\\partial c}{\\partial t} = -\\overrightarrow{\\nabla} \\cdot \\frac{\\overrightarrow{N}_+}{\\nu_+}\n",
    "$$\n",
    "\n",
    "with a Dirichlet boundary condition:\n",
    "$$\n",
    "\\overrightarrow{N}_+|_{x=0} = \\frac{I(t)}{Fz_+A}\n",
    "$$"
   ]
  },
  {
   "cell_type": "markdown",
   "metadata": {},
   "source": [
    "#### 2. Charge Continuity\n",
    "Charge is conserved, with current density $i = \\frac{I(t)}{A}$, and $A$ being the cross-section area of the cell:\n",
    "d(i,x) = 0\n",
    "\n",
    "\n",
    "$$\n",
    "\\overrightarrow{\\nabla}\\cdot \\overrightarrow{i} = 0\n",
    "$$\n",
    "\n",
    "with a Dirichlet boundary condition:\n",
    "$$\n",
    "\\overrightarrow{i}|_{t={\\textrm{pulse duration}}} = \\frac{I(t)_\\textrm{user defined}}{A}\n",
    "$$"
   ]
  },
  {
   "cell_type": "markdown",
   "metadata": {},
   "source": [
    "#### 3. Volume Continuity\n",
    "Bulk flow of the solution:\n",
    "Np*d(Vp,x)+Nm*d(Vm,x)+N0*d(V0,x)+d(vbox,x) = 0\n",
    "\n",
    "$$\n",
    "- \\overrightarrow{\\nabla} \\cdot \\overrightarrow{v}^\\square = \\frac{\\bar{V}_{\\textrm{e}} }{Fz_+ \\nu_+} \\overrightarrow{i} \\cdot \\overrightarrow{\\nabla} t_+^0 + \\frac{D_\\textrm{eff} }{1 - \\bar{V}_\\textrm{e} c } \\overrightarrow{\\nabla} c \\cdot \\overrightarrow{\\nabla} \\bar{V}_\\textrm{e}\n",
    "$$\n",
    "\n",
    "with a Dirichlet boundary condition:\n",
    "$$\n",
    "\\left. \\overrightarrow{v}^\\square_x \\right|_{x=0} = \\frac{ \\bar{V}_\\textrm{e} \\left( 1 - t_+^0 \\right) I \\left( t \\right)}{F z_+ \\nu_+ A},\n",
    "$$"
   ]
  },
  {
   "cell_type": "markdown",
   "metadata": {},
   "source": [
    "#### 4. MacInnes Equation\n",
    "The local electrochemical state of the solution relates  to the current and composition gradients through a MacInnes equation: \n",
    "\n",
    "d(mup,x)/F/zp+i/kappa-(nup+num)*R*T*(1-tp0)*chi/cT/V0/F/zp/nup/c*d(c,x)\n",
    "\n",
    "\n",
    "$$\n",
    "- \\overrightarrow{\\nabla} \\Phi = \\frac{\\overrightarrow{i}}{\\kappa_\\textrm{eff}} - \\frac{\\nu RT \\chi ( 1 - t_+^0 )}{Fz_+ \\nu_+ \\left[ 1 + \\left( \\nu \\bar{V}_0 - \\bar{V}_\\textrm{e} \\right) c \\right] } \\overrightarrow{\\nabla} \\ln c\n",
    "$$\n",
    "\n",
    "voltage drop across the electrolyte can be computed by integrating from $0$ to $L$, initial value on a boundary is 0."
   ]
  },
  {
   "cell_type": "markdown",
   "metadata": {},
   "source": [
    "#### 5. Ficks Law\n",
    "Cation flux can be driven by composition gradients, migration, or convection: \n",
    "\n",
    "Np+nup*D*chi*d(c,x)-tp0*i/F/zp-nup*c*vbox=0\n",
    "\n",
    "$$\n",
    "\\overrightarrow{N}_+ = -\\nu_+ D_{\\textrm{eff}} \\overrightarrow{\\nabla} c + \\frac{t_+^0}{Fz_+} \\overrightarrow{i} + \\nu_+ c \\overrightarrow{v}^\\square.\n",
    "$$\n",
    "\n",
    "Following this boundary condition \n",
    "\n",
    "Np+sp*i/F"
   ]
  },
  {
   "cell_type": "markdown",
   "metadata": {},
   "source": [
    "## PyBaMM Model Implementation"
   ]
  },
  {
   "cell_type": "markdown",
   "metadata": {},
   "source": [
    "Import pybamm and change working directory to root of the pybamm folder"
   ]
  },
  {
   "cell_type": "code",
   "execution_count": 75,
   "metadata": {},
   "outputs": [],
   "source": [
    "import pybamm\n",
    "import numpy as np\n",
    "from scipy import constants\n",
    "import matplotlib.pyplot as plt\n",
    "import os\n",
    "# os.chdir(pybamm.__path__[0]+'/..')\n",
    "os.chdir('/Users/andrew/Dropbox/Research/DPhil/9 Pybamm_Modelling/PyBaMM')\n",
    "# os.getcwd()"
   ]
  },
  {
   "cell_type": "markdown",
   "metadata": {},
   "source": [
    "#### A model is defined in six steps:\n",
    "1. Initialise model\n",
    "2. Define parameters and variables\n",
    "3. State governing equations\n",
    "4. State boundary conditions\n",
    "5. State initial conditions\n",
    "6. State output variables"
   ]
  },
  {
   "cell_type": "markdown",
   "metadata": {},
   "source": [
    "#### 1. Initialise model"
   ]
  },
  {
   "cell_type": "code",
   "execution_count": 83,
   "metadata": {},
   "outputs": [],
   "source": [
    "model = pybamm.BaseModel()"
   ]
  },
  {
   "cell_type": "markdown",
   "metadata": {},
   "source": [
    "#### 2. Define parameters and variables\n",
    "Stating dimensional parameters, use `Parameter` object to create parameter symbols. Parameters which are functions are defined using  `FunctionParameter` object and should be defined within a python function as shown. "
   ]
  },
  {
   "cell_type": "code",
   "execution_count": 77,
   "metadata": {},
   "outputs": [],
   "source": [
    "# Defining Parameters\n",
    "\n",
    "# PARAMETERS\n",
    "#--------------------------------------------\n",
    "\n",
    "# Galvanostatic Polarization (1. Pulse, 2. Relax)\n",
    "t_pulse = pybamm.Parameter(\"Current pulse time [s]\")\n",
    "t_relax = pybamm.Parameter(\"Current off relaxation time [s]\")\n",
    "def I_applied(t_pulse,t_relax):\n",
    "    \"Current profile\"\n",
    "    inputs =  {\"Current pulse time [s]\": t_pulse,\n",
    "               \"Current off relaxation time [s]\": t_relax,\n",
    "              }\n",
    "    return pybamm.FunctionParameter(\"Current profile [A]\", inputs)\n",
    "\n",
    "                                    \n",
    "# Geometery\n",
    "L = pybamm.Parameter(\"Electrolyte length [m]\")\n",
    "A = pybamm.Parameter(\"Electrode area [m2]\")\n",
    "\n",
    "# Physical constants\n",
    "R = pybamm.Scalar(constants.R) #(\"Gas constant [J.mol-1.K-1]\")\n",
    "F = pybamm.Scalar(constants.physical_constants[\"Faraday constant\"][0]) #(\"Faradays constant [C.mol-1]\")\n",
    "T = pybamm.Parameter(\"Temperature [K]\")\n",
    "\n",
    "# Stoich and charge constants\n",
    "nu_p = pybamm.Parameter(\"Cation formula unit\")\n",
    "nu_m = pybamm.Parameter(\"Anion formula unit\")\n",
    "z_p = pybamm.Parameter(\"Cation equivalent charge\")\n",
    "z_m = pybamm.Parameter(\"Cation equivalent charge\")\n",
    "s_p = pybamm.Parameter(\"Cation stoichiometric coefficient\")\n",
    "s_n = pybamm.Parameter(\"Anion stoichiometric coefficient\")\n",
    "s_0 = pybamm.Parameter(\"Solvent stoichiometric coefficient\")\n",
    "\n",
    "# Electrolyte bulk property\n",
    "c_avg = pybamm.Parameter(\"Bulk electrolyte concentration [mol.m-3]\")\n",
    "M_e = pybamm.Parameter(\"Salt molar mass [kg.mol-1]\")\n",
    "M_0 = pybamm.Parameter(\"Solvent molar mass [kg.mol-1]\")\n",
    "\n",
    "# Separator property\n",
    "Br = pybamm.Parameter(\"Bruggeman coefficient\")\n",
    "eta  = pybamm.Parameter(\"Porosity\")\n",
    "\n",
    "\n",
    "# FUNCTION BASED PARAMETERS\n",
    "#--------------------------------------------\n",
    "\n",
    "# Composition based parameters - - -\n",
    "\n",
    "def rho(c):\n",
    "    \"Density of electrolyte\"\n",
    "    inputs =  {\"Li+ concentration [mol.m-3]\": c,\n",
    "              }\n",
    "    return pybamm.FunctionParameter(\"Density [kg.m-3]\", inputs)\n",
    "\n",
    "def y(c):\n",
    "    \"Particle fraction\"\n",
    "    inputs =  {\"Li+ concentration [mol.m-3]\": c,\n",
    "               \"Solvent molar mass [kg.mol-1]\": M_0,\n",
    "               \"Solute molar mass [kg.mol-1]\": M_e,\n",
    "              }\n",
    "    return pybamm.FunctionParameter(\"Particle fraction\", inputs)\n",
    "\n",
    "\n",
    "# Thermodynamic properties - - - \n",
    "\n",
    "def V_e(c,rho,M_e):\n",
    "    \"Solute partial molar volume\"\n",
    "    inputs =  {\"Li+ concentration [mol.m-3]\": c,\n",
    "               \"Density [kg.m-3]\": rho,\n",
    "               \"Salt molar mass [kg.mol-1]\": M_e,\n",
    "              }\n",
    "    return pybamm.FunctionParameter(\"Solute partial molar volume [m3.mol-1]\", inputs)\n",
    "\n",
    "\n",
    "def V_0(c,rho,M_0):\n",
    "    \"Solvent partial molar volume\"\n",
    "    inputs =  {\"Li+ concentration [mol.m-3]\": c,\n",
    "               \"Density [kg.m-3]\": rho,\n",
    "               \"Solvent molar mass [kg.mol-1]\": M_0,\n",
    "              }\n",
    "    return pybamm.FunctionParameter(\"Solvent partial molar volume [m3.mol-1]\", inputs)\n",
    "\n",
    "def Chi(y):\n",
    "    \"Thermodynamic factor\"\n",
    "    inputs =  {\"Particle fraction\": y,\n",
    "              }\n",
    "    return pybamm.FunctionParameter(\"Thermodynamic factor\", inputs)\n",
    "\n",
    "# Transport properties - - - \n",
    "\n",
    "def EquivCond(y):\n",
    "    \"Equivalent conductivity\"\n",
    "    inputs =  {\"Particle fraction\": y,\n",
    "              }\n",
    "    return pybamm.FunctionParameter(\"Equivalent conductivity [S.m2.mol-1]\", inputs)\n",
    "\n",
    "def K_eff(EquivCond, Br, eta):\n",
    "    \"Effective conductivity\"\n",
    "    inputs =  {\"Equivalent conductivity [S.m2.mol-1]\": EquivCond,\n",
    "               \"Bruggeman coefficient\": Br,\n",
    "               \"Porosity\": eta,\n",
    "              }\n",
    "    return pybamm.FunctionParameter(\"Effective conductivity [S.m-1]\", inputs)\n",
    "\n",
    "def D_fick(y):\n",
    "    \"Fickian diffusivity\"\n",
    "    inputs =  {\"Particle fraction\": y,\n",
    "              }\n",
    "    return pybamm.FunctionParameter(\"Fickian diffusivity [m2.s-1]\", inputs)\n",
    "\n",
    "def D_eff(D_fick, Br, eta):\n",
    "    \"Effective diffusivity\"\n",
    "    inputs =  {\"Fickian diffusivity [m2.s-1]\": EquivCond,\n",
    "               \"Bruggeman coefficient\": Br,\n",
    "               \"Porosity\": eta,\n",
    "              }\n",
    "    return pybamm.FunctionParameter(\"Effective diffusivity [m2.s-1]\", inputs)\n",
    "\n",
    "def tp0(y):\n",
    "    \"Transference number\"\n",
    "    inputs =  {\"Particle fraction\": y,\n",
    "              }\n",
    "    return pybamm.FunctionParameter(\"Transference number\", inputs)\n",
    "\n"
   ]
  },
  {
   "cell_type": "code",
   "execution_count": 78,
   "metadata": {},
   "outputs": [],
   "source": [
    "# Defining variables\n",
    "\n",
    "x = pybamm.SpatialVariable(\"x\", domain=\"Electrolyte\", coord_sys=\"cartesian\")\n",
    "c = pybamm.Variable(\"Salt concentration\", domain=\"Electrolyte\")"
   ]
  },
  {
   "cell_type": "markdown",
   "metadata": {},
   "source": [
    "#### 3. State governing equations\n",
    "\n",
    "Each governing equation must also be stated in the explicit form `d/dt = rhs` since pybamm only stores the right hand side (rhs) and assumes that the left hand side is the time derivative. The governing equations are then simply"
   ]
  },
  {
   "cell_type": "code",
   "execution_count": 81,
   "metadata": {},
   "outputs": [
    {
     "ename": "NameError",
     "evalue": "name 'N_p' is not defined",
     "output_type": "error",
     "traceback": [
      "\u001b[0;31m---------------------------------------------------------------------------\u001b[0m",
      "\u001b[0;31mNameError\u001b[0m                                 Traceback (most recent call last)",
      "\u001b[0;32m<ipython-input-81-30ec974b8c89>\u001b[0m in \u001b[0;36m<module>\u001b[0;34m()\u001b[0m\n\u001b[1;32m      5\u001b[0m \u001b[0;34m\u001b[0m\u001b[0m\n\u001b[1;32m      6\u001b[0m \u001b[0;31m# 1. Cation Balance\u001b[0m\u001b[0;34m\u001b[0m\u001b[0;34m\u001b[0m\u001b[0m\n\u001b[0;32m----> 7\u001b[0;31m \u001b[0mdcdt\u001b[0m \u001b[0;34m=\u001b[0m \u001b[0;34m(\u001b[0m\u001b[0;34m-\u001b[0m\u001b[0;36m1\u001b[0m\u001b[0;34m/\u001b[0m\u001b[0meta\u001b[0m\u001b[0;34m)\u001b[0m\u001b[0;34m*\u001b[0m\u001b[0mpybamm\u001b[0m\u001b[0;34m.\u001b[0m\u001b[0mdiv\u001b[0m\u001b[0;34m(\u001b[0m\u001b[0mN_p\u001b[0m\u001b[0;34m/\u001b[0m\u001b[0mnu_p\u001b[0m\u001b[0;34m)\u001b[0m\u001b[0;34m\u001b[0m\u001b[0m\n\u001b[0m\u001b[1;32m      8\u001b[0m \u001b[0;34m\u001b[0m\u001b[0m\n\u001b[1;32m      9\u001b[0m \u001b[0;31m# 2. Charge Continuity\u001b[0m\u001b[0;34m\u001b[0m\u001b[0;34m\u001b[0m\u001b[0m\n",
      "\u001b[0;31mNameError\u001b[0m: name 'N_p' is not defined"
     ]
    }
   ],
   "source": [
    "# Algebraic relations?\n",
    "# N_p = i_curr / (F * z_p)\n",
    "i_curr = I_applied\n",
    "nu = nu_p + nu_m\n",
    "\n",
    "# 1. Cation Balance\n",
    "dcdt = (-1/eta)*pybamm.div(N_p/nu_p)\n",
    "\n",
    "# 2. Charge Continuity\n",
    "div_i = pybamm.div(i_curr)\n",
    "\n",
    "# 3. Volume Continuity\n",
    "vol1 = pybamm.inner((V_e / (F * z_p * nu_p))*i_curr, pybamm.grad(tp0))\n",
    "vol2 = pybamm.inner((D_eff / (1 - (V_e * c)))*pybamm.grad(c), pybamm.grad(V_e))\n",
    "vol3 = pybamm.div(vbox)\n",
    "\n",
    "vol_cont = vol1 + vol2 + vol3\n",
    "\n",
    "# 4. MacInnes Equation\n",
    "mac1 = i_curr/K_eff\n",
    "mac2 = -((nu*R*T*Chi*(1-tp0))/(c*F*z_p*nu_p*(1+(nu*V_0-v_e)*c)))*pybamm.grad(c)\n",
    "mac3 = pybamm.grad(Phi_ocv)\n",
    "\n",
    "macinnes =  mac1 + mac2 + mac3\n",
    "\n",
    "# 5. Ficks Law\n",
    "fick1 = -nu_p*D_eff*pybamm.grad(c)\n",
    "fick2 = (tp0/(F*z_p))*i_curr\n",
    "fick3 = nu_p*c*vbox\n",
    "fick4 = -N_p\n",
    "\n",
    "fick = fick1 + fick2 + fick3 + fick4\n",
    "\n",
    "# ADDING TO MODEL DICTIONARY\n",
    "model.algebraic = {i_curr: div_i}\n",
    "model.rhs = {N_p: dcdt}"
   ]
  },
  {
   "cell_type": "code",
   "execution_count": 82,
   "metadata": {},
   "outputs": [
    {
     "data": {
      "text/plain": [
       "{}"
      ]
     },
     "execution_count": 82,
     "metadata": {},
     "output_type": "execute_result"
    }
   ],
   "source": []
  },
  {
   "cell_type": "code",
   "execution_count": null,
   "metadata": {},
   "outputs": [],
   "source": []
  }
 ],
 "metadata": {
  "kernelspec": {
   "display_name": "Python 3",
   "language": "python",
   "name": "python3"
  },
  "language_info": {
   "codemirror_mode": {
    "name": "ipython",
    "version": 3
   },
   "file_extension": ".py",
   "mimetype": "text/x-python",
   "name": "python",
   "nbconvert_exporter": "python",
   "pygments_lexer": "ipython3",
   "version": "3.6.5"
  }
 },
 "nbformat": 4,
 "nbformat_minor": 2
}
