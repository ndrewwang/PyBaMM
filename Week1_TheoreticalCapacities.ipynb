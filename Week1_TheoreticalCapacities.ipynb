{
  "nbformat": 4,
  "nbformat_minor": 0,
  "metadata": {
    "colab": {
      "name": "Week1_TheoreticalCapacities.ipynb",
      "provenance": [],
      "collapsed_sections": [],
      "authorship_tag": "ABX9TyOeQuodAlDKnUAMnxly4pTj",
      "include_colab_link": true
    },
    "kernelspec": {
      "name": "python3",
      "display_name": "Python 3"
    }
  },
  "cells": [
    {
      "cell_type": "markdown",
      "metadata": {
        "id": "view-in-github",
        "colab_type": "text"
      },
      "source": [
        "<a href=\"https://colab.research.google.com/github/ndrewwang/PyBaMM/blob/master/Week1_TheoreticalCapacities.ipynb\" target=\"_parent\"><img src=\"https://colab.research.google.com/assets/colab-badge.svg\" alt=\"Open In Colab\"/></a>"
      ]
    },
    {
      "cell_type": "markdown",
      "metadata": {
        "id": "cF58T3ewmb3y"
      },
      "source": [
        "# __Introduction to the Battery Fact Checker__\n",
        "This is the test sheet for the Intercalation Station battery fact checker. \n",
        "- Battery Fact Checker\n",
        "- Battery Auditor\n",
        "- Battery Architecft\n",
        "- Battery Designer\n",
        "\n"
      ]
    },
    {
      "cell_type": "markdown",
      "metadata": {
        "id": "IZbKcHQvhads"
      },
      "source": [
        "# Motivation\n",
        "By understanding the principles and architecture behind batteries, we can build up an intuition that will help evaluate and identify future developments in the energy storage space. This curriculum is aimed at all those with a can-do technical attitude and enthusiasm in batteries. It will be particularly handy for analysts, reporters, investors, and students interested in joining Intercalation Station on the full journel of the creation of a simple tool in python. \n",
        "\n",
        "The inception of the tool was motivated by looking for a quick way to guesstimate answer questions such as:\n",
        "- Why can silicon store so much more capacity than graphite?\n",
        "- Why is LFP considered a lower energy material?\n",
        "- Can we fact check this [Quantumscape investor slide](https://cdn.wccftech.com/wp-content/uploads/2020/10/Slide-2-740x416.jpg)?\n",
        "- Why is lithium the preferred charge carrier?\n",
        "- Why does Quantumscape's solid electrolyte have be a certain thickness?\n",
        "- How much packaging efficiency is gained in Tesla's new 4680 cell?\n",
        "- Why did JouleCP ask researchers to report volume of electrolyte used?\n",
        "\n",
        "Initial goal will be to explain the mechanics of this [online calculator](http://lacey.se/apps/cell-energy/):  and build our own.\n"
      ]
    },
    {
      "cell_type": "markdown",
      "metadata": {
        "id": "lXj02FI7pPq6"
      },
      "source": [
        "# __Week 1: Theoretical Capacities__\n",
        "Lets define some units relevant to batteries:\n",
        "\n",
        "#### _Capacity_\n",
        "The amount of charge held by a battery. Where charge is the amount of current able to be maintained for a certain amount of time: $Q = It$. It typically written in units of mAh, for example your phone has a capacity of approx 3000 mAh. Roughly speaking, that 3000 mAh battery should be able to sustain a 3000 milli-amp (3 amp) current for 1 hour (3600 seconds). A good grasp of units will be useful going forward...\n",
        "\n",
        "#### _Energy_\n",
        "Has units of joules (J), the energy of a battery relates to the voltage of the battery: $\\text{Energy} = VQ = VIt$. Voltage (V) multiplied with amps (A) gives power in the units watts (W). When this power is sustained for a certain time by a battery, the energy is given by watt-hours (Wh). Voltage and energy is equally important as capacity. An infinite capacity battery with a cell voltage lower than 3V would not even power your TV remote. \n",
        "\n",
        "#### _Power_\n",
        "Power is the rate that energy is delivered, in watts (W). If energy was the amount of tea in a tea-pot, the power would be how quickly you could pour the tea from the spout of the pot. \n",
        "\n",
        "#### _Density_\n",
        "We also care about how dense the battery is. This means how much capacity, energy, or power the battery can deliver relative to the size of the battery. Size can be defined either in terms of weight or volume. For example, the weight-relative capacity is sometimes refered to as the specific capacity or gravimetric capacity, and the volume-relative capacity is refered to as the volumetric capacity. \n",
        "- Specific capacity: mAh/g\n",
        "- Volumetric capacity: mAh/L\n",
        "\n"
      ]
    },
    {
      "cell_type": "markdown",
      "metadata": {
        "id": "qzTk87v9uasr"
      },
      "source": [
        "# Faraday's Law\n",
        "Michael Faraday discovered in the 1800s that the amount of a substance deposited electrochemically by passing some amount of change is directly related to the molecular mass of that substance. This remains the case for batteries where Li ions (or other metals) is shuttled between the cathode and anode materials.\n",
        "\n",
        "This relationship is now known as Faraday's law, where the theoretical charge per mass or gravimetric capacity is given by:\n",
        "\n",
        "<!-- $$ Q_\\text{grav} = \\frac{Q}{m} = \\frac{nF}{M}$$ -->\n",
        "$$ Q_\\text{grav} =  \\frac{nF}{M}\\times\\frac{1}{3600}\\times 1000$$\n",
        "where:\n",
        "<!-- - $Q$ is the amount of charge (capacity)\n",
        "- $m$ is the amount of mass -->\n",
        "- $Q_\\text{grav}$ is the gravimetric capacity [__mAh/g__]\n",
        "- $n$ is the valence of the ion (1 for Li$^+$) \n",
        "- $M$ is the molecular mass of the material [__g__]\n",
        "- $F$ is Faraday's constant $F = 96485$ [__C/mol__] representing the charge in one mole of electrons\n",
        "\n",
        "If we work with molar masses in the [__g__] units, and want $Q_\\text{grav}$ in the \"industry standard\" units of milli amp-hours per gram [__mAh/g__], we must scale the units:\n",
        "- $\\times\\frac{1}{3600}$ scales the coulombs in amp-seconds [__A*s__] to amp-hours [__A*h__]\n",
        "- $\\times 1000$ scales the amp-hours [__A*h__] to milli amp-hours [__mAh__]\n",
        "\n"
      ]
    },
    {
      "cell_type": "markdown",
      "metadata": {
        "id": "7HTWM3WW4CDs"
      },
      "source": [
        "#Lets calculate some capacities, starting with lithium cobalt oxide! \n",
        "LiCoO2 follows this reaction during discharge, or lithium de-intercalation:\n",
        "\n",
        "$$\\text{LiCoO}_2 \\rightarrow \\text{CoO}_2 + \\text{Li}^+ + e^-$$\n",
        "\n",
        "Following these steps, the code below shows that LiCoO2 has a specific capacity of 273.8 mAh/g\n",
        "1. What are the molar masses of each element?\n",
        "2. What is the molar mass of the entire lithiated material?\n",
        "3. Apply Faraday's Law to calculate the theoretical capacity:"
      ]
    },
    {
      "cell_type": "code",
      "metadata": {
        "colab": {
          "base_uri": "https://localhost:8080/"
        },
        "id": "Sg1G3-Gxm7ph",
        "outputId": "3d7b1eae-f0e4-402a-e803-cff301a60597"
      },
      "source": [
        "# 1. What are the molar masses of each element?\n",
        "#----------------------------------------------------------------\n",
        "Li = 6.941 #g\n",
        "Co = 58.933 #g\n",
        "O = 15.999 #g\n",
        "\n",
        "# 2. What is the molar mass of the entire lithiated material?\n",
        "#----------------------------------------------------------------\n",
        "LCO = Li + Co + O + O  #molecular mass of LiCoO2 (LCO)\n",
        "\n",
        "# 3. Apply Faraday's Law to calculate the theoretical capacity:\n",
        "#----------------------------------------------------------------\n",
        "n = 1 #Lithium has a valence of +1\n",
        "F = 96485 #C/mol\n",
        "\n",
        "Q_grav = (n*F/LCO)*(1/3600)*1000 #Faradays law equation\n",
        "\n",
        "#Displaying answer\n",
        "print('LiCoO2 theoretical gravimetric capacity: \\n')\n",
        "print(str(round(Q_grav,2)) + ' mAh/g')"
      ],
      "execution_count": 1,
      "outputs": [
        {
          "output_type": "stream",
          "text": [
            "LiCoO2 theoretical gravimetric capacity: \n",
            "\n",
            "273.84 mAh/g\n"
          ],
          "name": "stdout"
        }
      ]
    },
    {
      "cell_type": "code",
      "metadata": {
        "id": "5IFZ65WAwfQT"
      },
      "source": [
        "from google.colab import drive\n",
        "drive.mount('/content/drive')"
      ],
      "execution_count": null,
      "outputs": []
    },
    {
      "cell_type": "markdown",
      "metadata": {
        "id": "09_ajwrbsbTI"
      },
      "source": [
        "# Molar Mass Calculator\n",
        "\n",
        "Lets make it easier to calculate the molar masses of a given electrode chemistry formula. You can run the block of code below to define a function __molmass.py__ that will take a string input and return the molar mass of the compound. \n"
      ]
    },
    {
      "cell_type": "code",
      "metadata": {
        "colab": {
          "base_uri": "https://localhost:8080/"
        },
        "id": "-RsWs-T3stZx",
        "outputId": "26c535d0-61c9-4858-ec80-57f362d19198"
      },
      "source": [
        "# DEFINE MOLMASS FUNCTION - RUN AND MOVE ONTO THE NEXT CELL\n",
        "%%writefile molmass.py\n",
        "def molmass(molecule_string):\n",
        "    import re\n",
        "    from collections import Counter\n",
        "    # Dictionary of molecular masses from periodic table\n",
        "    molar_mass_table_dict = {'H': 1.00794, 'He': 4.002602, 'Li': 6.941, 'Be': 9.012182, 'B': 10.811, 'C': 12.0107, 'N': 14.0067,\n",
        "                  'O': 15.9994, 'F': 18.9984032, 'Ne': 20.1797, 'Na': 22.98976928, 'Mg': 24.305, 'Al': 26.9815386,\n",
        "                  'Si': 28.0855, 'P': 30.973762, 'S': 32.065, 'Cl': 35.453, 'Ar': 39.948, 'K': 39.0983, 'Ca': 40.078,\n",
        "                  'Sc': 44.955912, 'Ti': 47.867, 'V': 50.9415, 'Cr': 51.9961, 'Mn': 54.938045,\n",
        "                  'Fe': 55.845, 'Co': 58.933195, 'Ni': 58.6934, 'Cu': 63.546, 'Zn': 65.409, 'Ga': 69.723, 'Ge': 72.64,\n",
        "                  'As': 74.9216, 'Se': 78.96, 'Br': 79.904, 'Kr': 83.798, 'Rb': 85.4678, 'Sr': 87.62, 'Y': 88.90585,\n",
        "                  'Zr': 91.224, 'Nb': 92.90638, 'Mo': 95.94, 'Tc': 98.9063, 'Ru': 101.07, 'Rh': 102.9055, 'Pd': 106.42,\n",
        "                  'Ag': 107.8682, 'Cd': 112.411, 'In': 114.818, 'Sn': 118.71, 'Sb': 121.760, 'Te': 127.6,\n",
        "                  'I': 126.90447, 'Xe': 131.293, 'Cs': 132.9054519, 'Ba': 137.327, 'La': 138.90547, 'Ce': 140.116,\n",
        "                  'Pr': 140.90465, 'Nd': 144.242, 'Pm': 146.9151, 'Sm': 150.36, 'Eu': 151.964, 'Gd': 157.25,\n",
        "                  'Tb': 158.92535, 'Dy': 162.5, 'Ho': 164.93032, 'Er': 167.259, 'Tm': 168.93421, 'Yb': 173.04,\n",
        "                  'Lu': 174.967, 'Hf': 178.49, 'Ta': 180.9479, 'W': 183.84, 'Re': 186.207, 'Os': 190.23, 'Ir': 192.217,\n",
        "                  'Pt': 195.084, 'Au': 196.966569, 'Hg': 200.59, 'Tl': 204.3833, 'Pb': 207.2, 'Bi': 208.9804,\n",
        "                  'Po': 208.9824, 'At': 209.9871, 'Rn': 222.0176, 'Fr': 223.0197, 'Ra': 226.0254, 'Ac': 227.0278,\n",
        "                  'Th': 232.03806, 'Pa': 231.03588, 'U': 238.02891, 'Np': 237.0482, 'Pu': 244.0642, 'Am': 243.0614,\n",
        "                  'Cm': 247.0703, 'Bk': 247.0703, 'Cf': 251.0796, 'Es': 252.0829, 'Fm': 257.0951, 'Md': 258.0951,\n",
        "                  'No': 259.1009, 'Lr': 262, 'Rf': 267, 'Db': 268, 'Sg': 271, 'Bh': 270, 'Hs': 269, 'Mt': 278,\n",
        "                  'Ds': 281, 'Rg': 281, 'Cn': 285, 'Nh': 284, 'Fl': 289, 'Mc': 289, 'Lv': 292, 'Ts': 294, 'Og': 294,\n",
        "                  'ZERO': 0}\n",
        "\n",
        "    #Parsing molecule formula \n",
        "    MATCH = {'(':')', '[':']', '{':'}'}\n",
        "    tokens = re.findall(r\"[A-Z][a-z]?|[A-Z]|[0-9].[0-9]+|[0-9]|[](){}[]\", molecule)\n",
        "    \n",
        "    composition = Counter()\n",
        "    match = []\n",
        "    stack = []\n",
        "   \n",
        "    while tokens:\n",
        "        # element with optional count\n",
        "        if tokens[0].isalpha():\n",
        "            element = tokens.pop(0)\n",
        "            count = float(tokens.pop(0)) if tokens and tokens[0][0].isdigit() else 1\n",
        "            composition[element] += count\n",
        "\n",
        "        # start a sub-compound\n",
        "        elif tokens[0] in ('(', '[', '{'):\n",
        "            match.append(MATCH[tokens.pop(0)])\n",
        "            stack.append(composition)\n",
        "            composition = Counter()\n",
        "            \n",
        "        # matching close bracket ends a sub-compound with an optional count\n",
        "        elif tokens[0] == match[-1]:\n",
        "            tokens.pop(0)\n",
        "            match.pop()\n",
        "                \n",
        "            repeat = float(tokens.pop(0)) if tokens and tokens[0][0].isdigit() else 1\n",
        "            for element in composition.keys():\n",
        "                composition[element] *= repeat\n",
        "                \n",
        "            composition.update(stack.pop())\n",
        "\n",
        "        # \"syntax\" error in the formula\n",
        "        else:\n",
        "            if token[0] in (')', ']', '}'):\n",
        "                raise ValueError(f\"Error, mismatched bracket: \"\n",
        "                                 f\"expected '{match[-1]}' got '{token[0]}'.\")\n",
        "            \n",
        "            else:\n",
        "                raise ValueError(f\"Error, unrecognized token in \"\n",
        "                                 f\"formula: '{token[0]}'.\")\n",
        "\n",
        "    # left over, unmatched brackets\n",
        "    if match:\n",
        "        brackets = ', '.join(f\"'{b}'\" for b in match[::-1])\n",
        "        raise ValueError(f\"Error, missing bracket(s): {brackets}.\")\n",
        "    \n",
        "    parsed_dict = dict(composition)\n",
        "\n",
        "    #Match parsed dictionary with number of elements to get total mass\n",
        "    total_mass = 0\n",
        "    for i in list(parsed_dict.keys()):\n",
        "      current_mass = molar_mass_table_dict[i]*parsed_dict[i]\n",
        "      total_mass = total_mass + current_mass\n",
        "\n",
        "    return total_mass\n",
        "execfile('molmass.py')"
      ],
      "execution_count": 2,
      "outputs": [
        {
          "output_type": "stream",
          "text": [
            "Writing molmass.py\n"
          ],
          "name": "stdout"
        }
      ]
    },
    {
      "cell_type": "markdown",
      "metadata": {
        "id": "_RIL9fr9vaqX"
      },
      "source": [
        "# Extending to other chemistries\n",
        "Now we have loaded the python function that takes chemical formulas and calculates the molar mass - we can give any electrode chemistry and calculate the theoretical capacity! \n",
        "\n",
        "Lets look at cathodes first by defining a python dictionary with LFP, LCO, NMC532, NMC811, and NCA. "
      ]
    },
    {
      "cell_type": "code",
      "metadata": {
        "id": "npTLC7w9vZbp"
      },
      "source": [
        ""
      ],
      "execution_count": 2,
      "outputs": []
    }
  ]
}